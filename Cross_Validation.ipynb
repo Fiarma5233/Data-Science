{
  "nbformat": 4,
  "nbformat_minor": 0,
  "metadata": {
    "colab": {
      "provenance": [],
      "mount_file_id": "1xudWK3zcKC5mHk8GV2uATgY7AXEIFLW7",
      "authorship_tag": "ABX9TyPeYK/JSoxJfl/cIPAhFvPh",
      "include_colab_link": true
    },
    "kernelspec": {
      "name": "python3",
      "display_name": "Python 3"
    },
    "language_info": {
      "name": "python"
    }
  },
  "cells": [
    {
      "cell_type": "markdown",
      "metadata": {
        "id": "view-in-github",
        "colab_type": "text"
      },
      "source": [
        "<a href=\"https://colab.research.google.com/github/Fiarma5233/Data-Science/blob/master/Cross_Validation.ipynb\" target=\"_parent\"><img src=\"https://colab.research.google.com/assets/colab-badge.svg\" alt=\"Open In Colab\"/></a>"
      ]
    },
    {
      "cell_type": "code",
      "source": [
        "#Prediction des ventes d'une entreprise en utilisant l'algo de regresion lineair qui est dans notre cas Ridge()"
      ],
      "metadata": {
        "id": "CPltS7weZEgK"
      },
      "execution_count": 1,
      "outputs": []
    },
    {
      "cell_type": "code",
      "source": [],
      "metadata": {
        "id": "eFy6v957ZETh"
      },
      "execution_count": null,
      "outputs": []
    },
    {
      "cell_type": "code",
      "execution_count": null,
      "metadata": {
        "id": "yA3TIuxCdRT4"
      },
      "outputs": [],
      "source": [
        "import numpy as np\n",
        "import pandas as pd\n",
        "import matplotlib.pyplot as plt\n",
        "import seaborn as sns"
      ]
    },
    {
      "cell_type": "code",
      "source": [
        "df = pd.read_csv('/content/drive/MyDrive/MasterClass_DataScience_Machine_Learning_Notebooks_et_Datasets/08-Modèles-de-Régression-Linéaire/Datasets/Advertising.csv')"
      ],
      "metadata": {
        "id": "oKpaHAltdUU5"
      },
      "execution_count": null,
      "outputs": []
    },
    {
      "cell_type": "code",
      "source": [
        "df"
      ],
      "metadata": {
        "id": "tAQI6mjOdURK"
      },
      "execution_count": null,
      "outputs": []
    },
    {
      "cell_type": "code",
      "source": [
        "# Etape 1 : Nettoyage des donnes : donnees deja bien donc pas besoin de les nettoyer"
      ],
      "metadata": {
        "id": "A-wcXrCcfAmt"
      },
      "execution_count": null,
      "outputs": []
    },
    {
      "cell_type": "code",
      "source": [
        "# Etape 2 : Delimitations de nos futures X et label y"
      ],
      "metadata": {
        "id": "Ui2FwkBAfW0Q"
      },
      "execution_count": null,
      "outputs": []
    },
    {
      "cell_type": "code",
      "source": [
        "# nos future X\n",
        "X = df.drop('sales', axis=1)"
      ],
      "metadata": {
        "id": "KrEBg_tVdUIA"
      },
      "execution_count": null,
      "outputs": []
    },
    {
      "cell_type": "code",
      "source": [
        "# notre label y\n",
        "y = df['sales']"
      ],
      "metadata": {
        "id": "PSfxvxlXdUE8"
      },
      "execution_count": null,
      "outputs": []
    },
    {
      "cell_type": "code",
      "source": [
        "# Etape 3 : Fractionnement ou repartition entrainnement / test"
      ],
      "metadata": {
        "id": "rh8Rpx3JdUB9"
      },
      "execution_count": null,
      "outputs": []
    },
    {
      "cell_type": "code",
      "source": [
        "from sklearn.model_selection import train_test_split"
      ],
      "metadata": {
        "id": "dx0DKeDBdT--"
      },
      "execution_count": null,
      "outputs": []
    },
    {
      "cell_type": "code",
      "source": [
        "X_train, X_test, y_train, y_test = train_test_split(X, y, test_size=0.3, random_state=101)"
      ],
      "metadata": {
        "id": "ixpm1KMVdT8X"
      },
      "execution_count": null,
      "outputs": []
    },
    {
      "cell_type": "code",
      "source": [
        "# Etape 4 : Mise a l'echelle des donnees"
      ],
      "metadata": {
        "id": "PQLMHNNpdT5a"
      },
      "execution_count": null,
      "outputs": []
    },
    {
      "cell_type": "code",
      "source": [
        "from sklearn.preprocessing import StandardScaler"
      ],
      "metadata": {
        "id": "WR2xFsUbdT3B"
      },
      "execution_count": null,
      "outputs": []
    },
    {
      "cell_type": "code",
      "source": [
        "# instance de\n",
        "scaler = StandardScaler()"
      ],
      "metadata": {
        "id": "xsHXT7pldT0w"
      },
      "execution_count": null,
      "outputs": []
    },
    {
      "cell_type": "code",
      "source": [
        "# adapter le scaler uniquement a nos donneees d'entrainement pour eviter toute fuite de donnees\n",
        "scaler.fit(X_train)"
      ],
      "metadata": {
        "id": "963fC3vGdTyj"
      },
      "execution_count": null,
      "outputs": []
    },
    {
      "cell_type": "code",
      "source": [
        "# transformer mes donnees a partir de cette mise a l'echelle\n",
        "X_train = scaler.transform(X_train)"
      ],
      "metadata": {
        "id": "9-L4X7pedTvn"
      },
      "execution_count": null,
      "outputs": []
    },
    {
      "cell_type": "code",
      "source": [
        "X_test = scaler.transform(X_test)"
      ],
      "metadata": {
        "id": "-E8Fqk6WdTtP"
      },
      "execution_count": null,
      "outputs": []
    },
    {
      "cell_type": "code",
      "source": [
        "# Etape 4 : creation du model\n",
        "from sklearn.linear_model import Ridge"
      ],
      "metadata": {
        "id": "sZffYLTgdTq0"
      },
      "execution_count": null,
      "outputs": []
    },
    {
      "cell_type": "code",
      "source": [
        "model = Ridge(alpha=100)"
      ],
      "metadata": {
        "id": "UYpG-TwkdTny"
      },
      "execution_count": null,
      "outputs": []
    },
    {
      "cell_type": "code",
      "source": [
        "# Etape 5 : Entrainer sur les donnees d'entrainement\n"
      ],
      "metadata": {
        "id": "i4P1pYs6dTlz"
      },
      "execution_count": null,
      "outputs": []
    },
    {
      "cell_type": "code",
      "source": [
        "model.fit(X_train, y_train)"
      ],
      "metadata": {
        "id": "29JTJQZRdTjO"
      },
      "execution_count": null,
      "outputs": []
    },
    {
      "cell_type": "code",
      "source": [
        "# Predictions sur les donnees test\n",
        "y_pred = model.predict(X_test)"
      ],
      "metadata": {
        "id": "rne370COdTga"
      },
      "execution_count": null,
      "outputs": []
    },
    {
      "cell_type": "code",
      "source": [
        "# Evaluation du model"
      ],
      "metadata": {
        "id": "_eGTMpNTdTeE"
      },
      "execution_count": null,
      "outputs": []
    },
    {
      "cell_type": "code",
      "source": [
        "from sklearn.metrics import mean_absolute_error, mean_squared_error"
      ],
      "metadata": {
        "id": "zg_1LGm1dTbS"
      },
      "execution_count": null,
      "outputs": []
    },
    {
      "cell_type": "code",
      "source": [
        "mean_squared_error(y_test, y_pred)"
      ],
      "metadata": {
        "id": "c_iVY5W0dTX5"
      },
      "execution_count": null,
      "outputs": []
    },
    {
      "cell_type": "code",
      "source": [
        "# creaons un 2e model pour deviver la meilleure valeur d'apha\n",
        "model_two = Ridge(alpha=1)"
      ],
      "metadata": {
        "id": "_IMAl48fdTTz"
      },
      "execution_count": null,
      "outputs": []
    },
    {
      "cell_type": "code",
      "source": [
        "# Entnorainons-le sur nos data train\n",
        "model_two.fit(X_train, y_train)"
      ],
      "metadata": {
        "id": "dSDqxQRldTPt"
      },
      "execution_count": null,
      "outputs": []
    },
    {
      "cell_type": "code",
      "source": [
        "# Predictions\n",
        "y_pred_two = model_two.predict(X_test)"
      ],
      "metadata": {
        "id": "vbuatvRvdTJB"
      },
      "execution_count": null,
      "outputs": []
    },
    {
      "cell_type": "code",
      "source": [
        "# calculons l'erreur quadratque moyenne\n",
        "mean_squared_error(y_test, y_pred_two)"
      ],
      "metadata": {
        "id": "VAtV1PYDdTEE"
      },
      "execution_count": null,
      "outputs": []
    }
  ]
}