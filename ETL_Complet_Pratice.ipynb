{
  "nbformat": 4,
  "nbformat_minor": 0,
  "metadata": {
    "colab": {
      "provenance": [],
      "authorship_tag": "ABX9TyP1FBOAnbLCKwZHoP6OF4tQ",
      "include_colab_link": true
    },
    "kernelspec": {
      "name": "python3",
      "display_name": "Python 3"
    },
    "language_info": {
      "name": "python"
    }
  },
  "cells": [
    {
      "cell_type": "markdown",
      "metadata": {
        "id": "view-in-github",
        "colab_type": "text"
      },
      "source": [
        "<a href=\"https://colab.research.google.com/github/Fiarma5233/Data-Science/blob/master/ETL_Complet_Pratice.ipynb\" target=\"_parent\"><img src=\"https://colab.research.google.com/assets/colab-badge.svg\" alt=\"Open In Colab\"/></a>"
      ]
    },
    {
      "cell_type": "code",
      "execution_count": 1,
      "metadata": {
        "id": "S13mq-LEsAh7"
      },
      "outputs": [],
      "source": []
    },
    {
      "cell_type": "code",
      "source": [
        "'''ETL\n",
        "Extraction des donnees d'un site web\n",
        "Transformation des prix en les multipliant par un taux donne\n",
        "Chargement des donnees au format csv,excel et dans une db sql3lite\n",
        "\n",
        "Ecriture des requetes pour interroger la db\n",
        "Journalisation des acctions'''"
      ],
      "metadata": {
        "id": "mljjBAwHGA2v",
        "colab": {
          "base_uri": "https://localhost:8080/",
          "height": 53
        },
        "outputId": "6547b3d7-e69b-4971-a17a-517a3af989a8"
      },
      "execution_count": 2,
      "outputs": [
        {
          "output_type": "execute_result",
          "data": {
            "text/plain": [
              "\"ETL\\nExtraction des donnees d'un site web\\nTransformation des prix en les multipliant par un taux donne\\nChargement des donnees au format csv,excel et dans une db sql3lite\\n\\nEcriture des requetes pour interroger la db\\nJournalisation des acctions\""
            ],
            "application/vnd.google.colaboratory.intrinsic+json": {
              "type": "string"
            }
          },
          "metadata": {},
          "execution_count": 2
        }
      ]
    },
    {
      "cell_type": "code",
      "source": [],
      "metadata": {
        "id": "Fw-zmQkUGA0K"
      },
      "execution_count": 2,
      "outputs": []
    },
    {
      "cell_type": "code",
      "source": [
        "# importation de bibliotheques\n",
        "\n",
        "import requests\n",
        "import pandas as pd\n",
        "import numpy as np\n",
        "import sqlite3\n",
        "from datetime import datetime\n",
        "from bs4 import BeautifulSoup\n",
        "\n",
        "# data urls\n",
        "url = \"https://web.archive.org/web/20230908091635/https://en.wikipedia.org/wiki/List_of_largest_banks\"\n",
        "\n",
        "# Echange rate csv path\n",
        "url3 = 'https://cf-courses-data.s3.us.cloud-object-storage.appdomain.cloud/IBMSkillsNetwork-PY0221EN-Coursera/labs/v2/exchange_rate.csv'\n",
        "\n",
        "# table attributs\n",
        "table_attrib = ['Name', 'MC_USD_Billion'] # attributs qu'on doit extraitre de la page web\n",
        "\n",
        "# les attributs qu'on doit avoir apres la transformation(conversion en d'autres devises)\n",
        "table_convert_attrib = ['Name', 'MC_USD_Billion', 'MC_GBP_Billion', 'MC_EUR_Billion', 'MC_INR_Billion']\n",
        "\n",
        "#  chemin du fichier csv en sortie\n",
        "csv_path ='./Largest_banks_data.csv'\n",
        "\n",
        "# nom de la base de donnnees\n",
        "db_name ='Banks.db'\n",
        "\n",
        "# nom de la  table\n",
        "table_name = 'Largest_banks'\n",
        "\n",
        "# connexion a la base de donnees sqlite3\n",
        "sql_connection = sqlite3.connect(db_name)\n",
        "\n",
        "# fichier de journalisation\n",
        "log_file = 'code_log.txt'\n",
        "\n",
        "\n",
        "# fonction d'extraction des donnees\n",
        "def extract(url,  table_attrib):\n",
        "    # on recupere la page en text grace a la requete envoyee a cette url\n",
        "    page = requests.get(url).text\n",
        "\n",
        "    # on cree un objet beautifulsoup\n",
        "    data = BeautifulSoup(page, 'html.parser')\n",
        "\n",
        "    # on definit un df vide\n",
        "    df = pd.DataFrame(columns=table_attrib)\n",
        "\n",
        "    # on recupere notre tableau\n",
        "    tables = data.find_all('tbody')\n",
        "\n",
        "    # on recupere toutes les lignes de notre tableau\n",
        "    rows = tables[0].find_all('tr')\n",
        "\n",
        "    # boucle for\n",
        "    for row in rows:\n",
        "        # on recupere toutes les cellules de chaque ligne\n",
        "        col = row.find_all('td')\n",
        "\n",
        "        # on verifie qu'il existe des cellules\n",
        "        if len(col) !=0 :\n",
        "            # on cree un dictionnaire(cle, valeur) pour recuperer chaque valeur dans la cellule correspondant a la colonne\n",
        "            dict_values = {\n",
        "                \"Name\" : col[1].text.strip() ,\n",
        "                \"MC_USD_Billion\" : col[2].text.strip()\n",
        "            }\n",
        "\n",
        "\n",
        "            # creation d'un df avec les valeurs recuperees\n",
        "            df1 = pd.DataFrame(dict_values, index=[0])\n",
        "\n",
        "            # concatenation des 2 df\n",
        "            df = pd.concat([df, df1], ignore_index=True)\n",
        "\n",
        "    return df\n",
        "\n",
        "extracted_data = extract(url, table_attrib)\n",
        "print(extracted_data)\n",
        "\n",
        "# fonction de journalisation\n",
        "def log_progress(message):\n",
        "    # format du horodatage\n",
        "    timestamp_format = '%Y-%h-%d-%H:%M:%S'\n",
        "\n",
        "    # horodatage actuel\n",
        "    now = datetime.now()\n",
        "\n",
        "    # conversion du format de l'horodatage en chaine de caracteres\n",
        "    timestamp = now.strftime(timestamp_format)\n",
        "\n",
        "    # ouverture puis ecriture dans le fichier de journalisation\n",
        "    with open(log_file, 'a') as f:\n",
        "        f.write(f\"{timestamp} , {message} \\n\")"
      ],
      "metadata": {
        "colab": {
          "base_uri": "https://localhost:8080/"
        },
        "id": "eucZqCx8GAyN",
        "outputId": "89173f11-6398-4ef7-f921-bc673669967c"
      },
      "execution_count": 3,
      "outputs": [
        {
          "output_type": "stream",
          "name": "stdout",
          "text": [
            "                                      Name MC_USD_Billion\n",
            "0                           JPMorgan Chase         432.92\n",
            "1                          Bank of America         231.52\n",
            "2  Industrial and Commercial Bank of China         194.56\n",
            "3               Agricultural Bank of China         160.68\n",
            "4                                HDFC Bank         157.91\n",
            "5                              Wells Fargo         155.87\n",
            "6                        HSBC Holdings PLC         148.90\n",
            "7                           Morgan Stanley         140.83\n",
            "8                  China Construction Bank         139.82\n",
            "9                            Bank of China         136.81\n"
          ]
        }
      ]
    },
    {
      "cell_type": "code",
      "source": [],
      "metadata": {
        "id": "HD2viHK6GAKg"
      },
      "execution_count": 3,
      "outputs": []
    },
    {
      "cell_type": "code",
      "source": [
        "# fonctions de transformation\n",
        "\n",
        "def transform(url, data):\n",
        "    # Création d'une copie du dataframe d'origine pour éviter de le modifier directement.\n",
        "    df = data.copy()\n",
        "\n",
        "    # Lecture du fichier CSV contenant les taux de change à partir de l'URL donnée.\n",
        "    exchange_rate = pd.read_csv(url)\n",
        "\n",
        "    # Conversion des données du dataframe des taux de change en dictionnaire.\n",
        "    # La colonne 'Currency' devient les clés du dictionnaire et la colonne 'Rate' devient les valeurs correspondantes.\n",
        "    exchange_rate = exchange_rate.set_index('Currency').to_dict()['Rate']\n",
        "\n",
        "    # Conversion des valeurs de 'MC_USD_Billion' en flottants après avoir supprimé les virgules.\n",
        "    df['MC_USD_Billion'] = df['MC_USD_Billion'].str.replace(',', '').astype(float)\n",
        "\n",
        "    # Création de nouvelles colonnes pour les valeurs converties en différentes devises.\n",
        "    # Conversion en GBP (livres sterling) en utilisant le taux de change et en arrondissant à 2 décimales.\n",
        "    df['MC_GBP_Billion'] = [np.round(x * exchange_rate['GBP'], 2) for x in df['MC_USD_Billion']]\n",
        "\n",
        "    # Conversion en EUR (euros) en utilisant le taux de change et en arrondissant à 2 décimales.\n",
        "    df['MC_EUR_Billion'] = [np.round(x * exchange_rate['EUR'], 2) for x in df['MC_USD_Billion']]\n",
        "\n",
        "    # Conversion en INR (roupies indiennes) en utilisant le taux de change et en arrondissant à 2 décimales.\n",
        "    df['MC_INR_Billion'] = [np.round(x * exchange_rate['INR'], 2) for x in df['MC_USD_Billion']]\n",
        "\n",
        "    # Retour du dataframe transformé avec les nouvelles colonnes ajoutées.\n",
        "    return df\n",
        "\n",
        "transformed_data = transform(url3, extracted_data)\n",
        "print(transformed_data)\n"
      ],
      "metadata": {
        "colab": {
          "base_uri": "https://localhost:8080/"
        },
        "id": "n3OQe6mif9Jm",
        "outputId": "dc4e225f-9069-491b-8bd9-140bded8b42f"
      },
      "execution_count": 4,
      "outputs": [
        {
          "output_type": "stream",
          "name": "stdout",
          "text": [
            "                                      Name  MC_USD_Billion  MC_GBP_Billion  \\\n",
            "0                           JPMorgan Chase          432.92          346.34   \n",
            "1                          Bank of America          231.52          185.22   \n",
            "2  Industrial and Commercial Bank of China          194.56          155.65   \n",
            "3               Agricultural Bank of China          160.68          128.54   \n",
            "4                                HDFC Bank          157.91          126.33   \n",
            "5                              Wells Fargo          155.87          124.70   \n",
            "6                        HSBC Holdings PLC          148.90          119.12   \n",
            "7                           Morgan Stanley          140.83          112.66   \n",
            "8                  China Construction Bank          139.82          111.86   \n",
            "9                            Bank of China          136.81          109.45   \n",
            "\n",
            "   MC_EUR_Billion  MC_INR_Billion  \n",
            "0          402.62        35910.71  \n",
            "1          215.31        19204.58  \n",
            "2          180.94        16138.75  \n",
            "3          149.43        13328.41  \n",
            "4          146.86        13098.63  \n",
            "5          144.96        12929.42  \n",
            "6          138.48        12351.26  \n",
            "7          130.97        11681.85  \n",
            "8          130.03        11598.07  \n",
            "9          127.23        11348.39  \n"
          ]
        }
      ]
    },
    {
      "cell_type": "code",
      "source": [
        "# chargement des donnees transformees dans un fichier csv\n",
        "\n",
        "def load_to_csv( transformed_data, csv_path):\n",
        "    transformed_data.to_csv(csv_path)\n",
        "\n",
        "load_to_csv( transformed_data, csv_path) # appel de la fonction\n"
      ],
      "metadata": {
        "id": "AnyetAeAf8-s"
      },
      "execution_count": 5,
      "outputs": []
    },
    {
      "cell_type": "code",
      "source": [
        "# chargement des donnees du fichier csv dans la base de donnees \"Banks.db\"\n",
        "def load_to_db(df, sql_connection, table_name):\n",
        "    df.to_sql(table_name, sql_connection, if_exists='append', index=False)\n",
        "    # Enregistre le DataFrame dans une table SQL dela base de donnees , en ajoutant les donnees si la table existe déjà\n",
        "\n",
        "# appel de la fonction\n",
        "load_to_db(transformed_data, sql_connection, table_name)"
      ],
      "metadata": {
        "id": "Uj_BOQdhU85M"
      },
      "execution_count": 6,
      "outputs": []
    },
    {
      "cell_type": "code",
      "source": [],
      "metadata": {
        "id": "tPkzEIrbVDsn"
      },
      "execution_count": 6,
      "outputs": []
    },
    {
      "cell_type": "code",
      "source": [
        "# requettes sur la base de donnees\n",
        "def run_queries(query_statement, sql_connection):\n",
        "    # requete formulee\n",
        "    print(query_statement)\n",
        "\n",
        "   # Exécute la requête sur la base de données et stocke le résultat dans 'query_statement_output'\n",
        "\n",
        "    query_statement_output = pd.read_sql(query_statement, sql_connection)\n",
        "\n",
        "    # afficher le resultat de la requete\n",
        "    print(query_statement_output)\n",
        "\n",
        "# formulation de la requete\n",
        "query_statement= \"SELECT Name from Largest_banks LIMIT 5\"\n",
        "\n",
        "# appel de la fonction\n",
        "run_queries(query_statement, sql_connection)"
      ],
      "metadata": {
        "colab": {
          "base_uri": "https://localhost:8080/"
        },
        "id": "bnH-8LpIU8pU",
        "outputId": "bd299881-3f99-4c33-cf30-11325296148a"
      },
      "execution_count": 7,
      "outputs": [
        {
          "output_type": "stream",
          "name": "stdout",
          "text": [
            "SELECT Name from Largest_banks LIMIT 5\n",
            "                                      Name\n",
            "0                           JPMorgan Chase\n",
            "1                          Bank of America\n",
            "2  Industrial and Commercial Bank of China\n",
            "3               Agricultural Bank of China\n",
            "4                                HDFC Bank\n"
          ]
        }
      ]
    },
    {
      "cell_type": "code",
      "source": [],
      "metadata": {
        "id": "pqbWcTWIZLf4"
      },
      "execution_count": 7,
      "outputs": []
    },
    {
      "cell_type": "code",
      "source": [
        "# Journalisation des activites\n",
        "\n",
        "log_progress(\"Debut du processus ETL\")\n",
        "\n",
        "log_progress(\"Debut d'extraction des donnees\")\n",
        "extracted_data = extract(url, table_attrib)\n",
        "#print(extracted_data)\n",
        "log_progress(\"Fin d'extraction des donnees\")\n",
        "\n",
        "log_progress(\"Debut de transformation des donnees\")\n",
        "transformed_data = transform(url3, extracted_data)\n",
        "#print(transformed_data)\n",
        "log_progress(\"Fin de transformation des donnees\")\n",
        "\n",
        "\n",
        "log_progress(\"Debut de chargement des donnees dans un fichier csv\")\n",
        "load_to_csv( transformed_data, csv_path) # appel de la fonction\n",
        "log_progress(\"Fin de chargement des donnees dans un fichier csv\")\n",
        "\n",
        "\n",
        "log_progress(\"Debut de chargement des donnees dans une base donnees\")\n",
        "load_to_db(transformed_data, sql_connection, table_name)\n",
        "log_progress(\"Fin de chargement des donnees dans une base donnees\")\n",
        "\n",
        "\n",
        "log_progress(\"Debut de requetes sur la base donnees\")\n",
        "# formulation de la requete\n",
        "query_statement= \"SELECT Name from Largest_banks LIMIT 5\"\n",
        "# appel de la fonction\n",
        "run_queries(query_statement, sql_connection)\n",
        "log_progress(\"Fin de requetes sur la base donnees\")\n",
        "\n",
        "#"
      ],
      "metadata": {
        "colab": {
          "base_uri": "https://localhost:8080/"
        },
        "id": "VMA1uZR3ZzVX",
        "outputId": "20b17df5-bbd7-4fb0-d413-c4c6f3285124"
      },
      "execution_count": 8,
      "outputs": [
        {
          "output_type": "stream",
          "name": "stdout",
          "text": [
            "SELECT Name from Largest_banks LIMIT 5\n",
            "                                      Name\n",
            "0                           JPMorgan Chase\n",
            "1                          Bank of America\n",
            "2  Industrial and Commercial Bank of China\n",
            "3               Agricultural Bank of China\n",
            "4                                HDFC Bank\n"
          ]
        }
      ]
    },
    {
      "cell_type": "code",
      "source": [
        "# formulation de la requete\n",
        "query_statement= \"SELECT * FROM Largest_banks\"\n",
        "# appel de la fonction\n",
        "run_queries(query_statement, sql_connection)"
      ],
      "metadata": {
        "colab": {
          "base_uri": "https://localhost:8080/"
        },
        "id": "70nzfH1UZzSm",
        "outputId": "1265d5a4-1ab0-4f54-c7c3-f9a2e9e9fc5d"
      },
      "execution_count": 9,
      "outputs": [
        {
          "output_type": "stream",
          "name": "stdout",
          "text": [
            "SELECT * FROM Largest_banks\n",
            "                                       Name  MC_USD_Billion  MC_GBP_Billion  \\\n",
            "0                            JPMorgan Chase          432.92          346.34   \n",
            "1                           Bank of America          231.52          185.22   \n",
            "2   Industrial and Commercial Bank of China          194.56          155.65   \n",
            "3                Agricultural Bank of China          160.68          128.54   \n",
            "4                                 HDFC Bank          157.91          126.33   \n",
            "5                               Wells Fargo          155.87          124.70   \n",
            "6                         HSBC Holdings PLC          148.90          119.12   \n",
            "7                            Morgan Stanley          140.83          112.66   \n",
            "8                   China Construction Bank          139.82          111.86   \n",
            "9                             Bank of China          136.81          109.45   \n",
            "10                           JPMorgan Chase          432.92          346.34   \n",
            "11                          Bank of America          231.52          185.22   \n",
            "12  Industrial and Commercial Bank of China          194.56          155.65   \n",
            "13               Agricultural Bank of China          160.68          128.54   \n",
            "14                                HDFC Bank          157.91          126.33   \n",
            "15                              Wells Fargo          155.87          124.70   \n",
            "16                        HSBC Holdings PLC          148.90          119.12   \n",
            "17                           Morgan Stanley          140.83          112.66   \n",
            "18                  China Construction Bank          139.82          111.86   \n",
            "19                            Bank of China          136.81          109.45   \n",
            "\n",
            "    MC_EUR_Billion  MC_INR_Billion  \n",
            "0           402.62        35910.71  \n",
            "1           215.31        19204.58  \n",
            "2           180.94        16138.75  \n",
            "3           149.43        13328.41  \n",
            "4           146.86        13098.63  \n",
            "5           144.96        12929.42  \n",
            "6           138.48        12351.26  \n",
            "7           130.97        11681.85  \n",
            "8           130.03        11598.07  \n",
            "9           127.23        11348.39  \n",
            "10          402.62        35910.71  \n",
            "11          215.31        19204.58  \n",
            "12          180.94        16138.75  \n",
            "13          149.43        13328.41  \n",
            "14          146.86        13098.63  \n",
            "15          144.96        12929.42  \n",
            "16          138.48        12351.26  \n",
            "17          130.97        11681.85  \n",
            "18          130.03        11598.07  \n",
            "19          127.23        11348.39  \n"
          ]
        }
      ]
    },
    {
      "cell_type": "code",
      "source": [
        "# formulation de la requete\n",
        "query_statement= \"SELECT AVG(MC_GBP_Billion) FROM Largest_banks\"\n",
        "# appel de la fonction\n",
        "run_queries(query_statement, sql_connection)"
      ],
      "metadata": {
        "colab": {
          "base_uri": "https://localhost:8080/"
        },
        "id": "VpZRenDQZzRQ",
        "outputId": "fb666eae-4b02-4bfa-d260-aa1b2753d3eb"
      },
      "execution_count": 10,
      "outputs": [
        {
          "output_type": "stream",
          "name": "stdout",
          "text": [
            "SELECT AVG(MC_GBP_Billion) FROM Largest_banks\n",
            "   AVG(MC_GBP_Billion)\n",
            "0              151.987\n"
          ]
        }
      ]
    },
    {
      "cell_type": "code",
      "source": [
        "# formulation de la requete\n",
        "query_statement= \"SELECT Name from Largest_banks LIMIT 5\"\n",
        "# appel de la fonction\n",
        "run_queries(query_statement, sql_connection)"
      ],
      "metadata": {
        "colab": {
          "base_uri": "https://localhost:8080/"
        },
        "id": "bf3Yg9BrZzPW",
        "outputId": "f53a5a19-efe8-4489-a32a-eea7c4399426"
      },
      "execution_count": 11,
      "outputs": [
        {
          "output_type": "stream",
          "name": "stdout",
          "text": [
            "SELECT Name from Largest_banks LIMIT 5\n",
            "                                      Name\n",
            "0                           JPMorgan Chase\n",
            "1                          Bank of America\n",
            "2  Industrial and Commercial Bank of China\n",
            "3               Agricultural Bank of China\n",
            "4                                HDFC Bank\n"
          ]
        }
      ]
    },
    {
      "cell_type": "code",
      "source": [
        "sql_connection.close() # fermeture de la connexion a la base de donnees"
      ],
      "metadata": {
        "id": "YpTb14TAZzNE"
      },
      "execution_count": 12,
      "outputs": []
    },
    {
      "cell_type": "code",
      "source": [],
      "metadata": {
        "id": "Ee51iUt_ZzK2"
      },
      "execution_count": 12,
      "outputs": []
    },
    {
      "cell_type": "code",
      "source": [],
      "metadata": {
        "id": "M5rz7O5NZzIt"
      },
      "execution_count": 12,
      "outputs": []
    },
    {
      "cell_type": "code",
      "source": [],
      "metadata": {
        "id": "uEMkNaKZZzGa"
      },
      "execution_count": 12,
      "outputs": []
    },
    {
      "cell_type": "code",
      "source": [],
      "metadata": {
        "id": "4_rS6E3UZzET"
      },
      "execution_count": 12,
      "outputs": []
    },
    {
      "cell_type": "code",
      "source": [],
      "metadata": {
        "id": "d1J0IFmKZzCD"
      },
      "execution_count": 12,
      "outputs": []
    },
    {
      "cell_type": "code",
      "source": [],
      "metadata": {
        "id": "MQG3NNxHZy_6"
      },
      "execution_count": 12,
      "outputs": []
    },
    {
      "cell_type": "code",
      "source": [],
      "metadata": {
        "id": "_Bu0tNhQZy9j"
      },
      "execution_count": 12,
      "outputs": []
    }
  ]
}